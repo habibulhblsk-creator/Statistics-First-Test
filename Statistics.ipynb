{
 "cells": [
  {
   "cell_type": "code",
   "execution_count": 1,
   "id": "30ba5124-599f-42e0-b1db-0b13ced5b65a",
   "metadata": {},
   "outputs": [
    {
     "name": "stdout",
     "output_type": "stream",
     "text": [
      "Collecting statistics\n",
      "  Downloading statistics-1.0.3.5.tar.gz (8.3 kB)\n",
      "  Installing build dependencies: started\n",
      "  Installing build dependencies: finished with status 'done'\n",
      "  Getting requirements to build wheel: started\n",
      "  Getting requirements to build wheel: finished with status 'done'\n",
      "  Preparing metadata (pyproject.toml): started\n",
      "  Preparing metadata (pyproject.toml): finished with status 'done'\n",
      "Collecting docutils>=0.3 (from statistics)\n",
      "  Downloading docutils-0.22-py3-none-any.whl.metadata (15 kB)\n",
      "Downloading docutils-0.22-py3-none-any.whl (630 kB)\n",
      "   ---------------------------------------- 0.0/630.7 kB ? eta -:--:--\n",
      "   ---------------------------------------- 0.0/630.7 kB ? eta -:--:--\n",
      "   ---------------------------------------- 0.0/630.7 kB ? eta -:--:--\n",
      "   ---------------- ----------------------- 262.1/630.7 kB ? eta -:--:--\n",
      "   ---------------- ----------------------- 262.1/630.7 kB ? eta -:--:--\n",
      "   ------------------------------- ------ 524.3/630.7 kB 700.7 kB/s eta 0:00:01\n",
      "   ---------------------------------------- 630.7/630.7 kB 651.0 kB/s  0:00:01\n",
      "Building wheels for collected packages: statistics\n",
      "  Building wheel for statistics (pyproject.toml): started\n",
      "  Building wheel for statistics (pyproject.toml): finished with status 'done'\n",
      "  Created wheel for statistics: filename=statistics-1.0.3.5-py3-none-any.whl size=7507 sha256=b7dd76f678d83e788da5b982f8c1f6b34a76dba520f637b415059dd3f8208d10\n",
      "  Stored in directory: c:\\users\\md habibullah sheikh\\appdata\\local\\pip\\cache\\wheels\\81\\6b\\04\\dd3cc29a5f3bdba002365cb7ddb8ac0e72272099f245740657\n",
      "Successfully built statistics\n",
      "Installing collected packages: docutils, statistics\n",
      "\n",
      "   ---------------------------------------- 0/2 [docutils]\n",
      "   ---------------------------------------- 0/2 [docutils]\n",
      "   ---------------------------------------- 0/2 [docutils]\n",
      "   ---------------------------------------- 0/2 [docutils]\n",
      "   ---------------------------------------- 0/2 [docutils]\n",
      "   ---------------------------------------- 0/2 [docutils]\n",
      "   ---------------------------------------- 0/2 [docutils]\n",
      "   ---------------------------------------- 0/2 [docutils]\n",
      "   ---------------------------------------- 0/2 [docutils]\n",
      "   ---------------------------------------- 0/2 [docutils]\n",
      "   ---------------------------------------- 0/2 [docutils]\n",
      "   ---------------------------------------- 0/2 [docutils]\n",
      "   ---------------------------------------- 0/2 [docutils]\n",
      "   ---------------------------------------- 0/2 [docutils]\n",
      "   ---------------------------------------- 0/2 [docutils]\n",
      "   ---------------------------------------- 0/2 [docutils]\n",
      "   ---------------------------------------- 0/2 [docutils]\n",
      "   ---------------------------------------- 0/2 [docutils]\n",
      "   ---------------------------------------- 0/2 [docutils]\n",
      "   ---------------------------------------- 0/2 [docutils]\n",
      "   ---------------------------------------- 0/2 [docutils]\n",
      "   ---------------------------------------- 0/2 [docutils]\n",
      "   ---------------------------------------- 0/2 [docutils]\n",
      "   ---------------------------------------- 0/2 [docutils]\n",
      "   ---------------------------------------- 0/2 [docutils]\n",
      "   ---------------------------------------- 0/2 [docutils]\n",
      "   ---------------------------------------- 2/2 [statistics]\n",
      "\n",
      "Successfully installed docutils-0.22 statistics-1.0.3.5\n",
      "Note: you may need to restart the kernel to use updated packages.\n"
     ]
    }
   ],
   "source": [
    "pip install statistics"
   ]
  },
  {
   "cell_type": "code",
   "execution_count": 9,
   "id": "27f02e2a-c352-45b8-bf44-8c5d8045e00e",
   "metadata": {},
   "outputs": [],
   "source": [
    "import statistics as stats\n",
    "import numpy as np\n",
    "import matplotlib.pyplot as plt"
   ]
  },
  {
   "cell_type": "code",
   "execution_count": null,
   "id": "0df29686-5cb5-4991-ae59-9edefd455511",
   "metadata": {},
   "outputs": [],
   "source": [
    "#Assignment Code: DS-AG-005"
   ]
  },
  {
   "cell_type": "code",
   "execution_count": null,
   "id": "77c590ba-4ff8-48bc-8af0-f4216dd66cfd",
   "metadata": {},
   "outputs": [],
   "source": [
    "\"Question 1: What is the difference between descriptive statistics and inferential statistics? Explain with examples.\"\n",
    "\n",
    "#Answer\n",
    "\n",
    "# Descriptive Statistics : Summarizes and describes the main features of a dataset. Present and explain data in a meaningful way. \n",
    "                           #Uses the whole dataset. Calculating the average height of students in a class.\n",
    "\n",
    "# Inferential Statistics : Uses sample data to make predictions or generalizations about a larger population. Draw conclusions,\n",
    "                           #make predictions, or test hypotheses. Uses a sample of the dataset. Predicting the average height of \n",
    "                           #all students in a country based on a sample.\n",
    "\n",
    "#Example:\n",
    "\n",
    "#Descriptive: The average score of the 30 students in this class is 75.\n",
    "\n",
    "#Inferential: We estimate the average score of all students in the school is between 72 and 78 (95% confidence).\n",
    "\n"
   ]
  },
  {
   "cell_type": "code",
   "execution_count": null,
   "id": "f2174b5f-5bfb-4b1c-8fb1-0b60cedf263f",
   "metadata": {},
   "outputs": [],
   "source": [
    "#Question 2: What is sampling in statistics? Explain the differences between random and stratified sampling.\n",
    "\n",
    "\n",
    "#Sampling: The process of selecting a subset (sample) from a population to make inferences about the whole population.\n",
    "#Types: Random Sampling\n",
    "\n",
    "#Every member of the population has an equal chance of being selected.\n",
    "#Example: Picking names from a hat.\n",
    "\n",
    "#Stratified Sampling\n",
    "#Population is divided into subgroups (strata) based on a characteristic (e.g., gender, age), and random samples are taken from each group.\n",
    "\n",
    "#Example: In a survey, select 50 men and 50 women randomly to ensure gender balance."
   ]
  },
  {
   "cell_type": "code",
   "execution_count": null,
   "id": "07a47f87-75f6-4d10-b42d-db7de9df74c2",
   "metadata": {},
   "outputs": [],
   "source": [
    "#Question 3: Define mean, median, and mode. Explain why these measures of central tendency are important.\n",
    "\n",
    "#Measure\tDefinition\tExample, Data: 2, 3, 3, 6, 9\n",
    "#Mean\tSum of all values ÷ number of values\t(2+3+3+6+9)/5 = 4.6\n",
    "#Median\tMiddle value when data is sorted\tMedian = 3\n",
    "#Mode\tMost frequently occurring value(s)\tMode = 3\n",
    "\n",
    "\n",
    "#Mean: Shows average performance.\n",
    "#Median: Better for skewed data.\n",
    "#Mode: Shows most common value, useful in categorical data."
   ]
  },
  {
   "cell_type": "code",
   "execution_count": null,
   "id": "8229e213-1790-43c7-b736-b1706afe1f45",
   "metadata": {},
   "outputs": [],
   "source": [
    "#Question 4: Explain skewness and kurtosis. What does a positive skew imply about the data?\n",
    "\n",
    "#Skewness: Measures asymmetry of a distribution.\n",
    "\n",
    "#Positive skew: Tail is longer on the right; mean > median.\n",
    "#Negative skew: Tail is longer on the left; mean < median.\n",
    "#Kurtosis: Measures the “tailedness” (peakedness) of a distribution.\n",
    "#High kurtosis: More extreme outliers.\n",
    "#Low kurtosis: Fewer outliers.\n",
    "\n",
    "#Positive Skew Example: Income distribution (few people earn extremely high salaries)."
   ]
  },
  {
   "cell_type": "code",
   "execution_count": 4,
   "id": "c3badd26-b795-4266-b8cc-4c903bef4a63",
   "metadata": {},
   "outputs": [
    {
     "name": "stdout",
     "output_type": "stream",
     "text": [
      "Mean: 19.6\n",
      "Median: 19\n",
      "Mode: 12\n"
     ]
    }
   ],
   "source": [
    "#Question 5: Implement a Python program to compute the mean, median, and mode of a given list of numbers.\n",
    "numbers = [12, 15, 12, 18, 19, 12, 20, 22, 19, 19, 24, 24, 24, 26, 28]\n",
    "#(Include your Python code and output in the code box below.)\n",
    "\n",
    "#Answer\n",
    "\n",
    "mean_value = stats.mean(numbers)\n",
    "median_value = stats.median(numbers)\n",
    "mode_value = stats.mode(numbers)\n",
    "\n",
    "print(\"Mean:\", mean_value)\n",
    "print(\"Median:\", median_value)\n",
    "print(\"Mode:\", mode_value)"
   ]
  },
  {
   "cell_type": "code",
   "execution_count": 8,
   "id": "2af6ca72-520c-4606-9b3e-73596746101e",
   "metadata": {},
   "outputs": [
    {
     "name": "stdout",
     "output_type": "stream",
     "text": [
      "Covariance: 220.0\n",
      "Correlation Coefficient: 0.995893206467704\n"
     ]
    }
   ],
   "source": [
    "#Question 6: Compute the covariance and correlation coefficient between the following two datasets provided as lists in Python:\n",
    "list_x = [10, 20, 30, 40, 50]\n",
    "list_y = [15, 25, 35, 45, 60]\n",
    "#(Include your Python code and output in the code box below.)\n",
    "\n",
    "covariance = np.cov(list_x, list_y, ddof=0)[0][1]\n",
    "correlation = np.corrcoef(list_x, list_y)[0][1]\n",
    "\n",
    "print(\"Covariance:\", covariance)\n",
    "print(\"Correlation Coefficient:\", correlation)\n"
   ]
  },
  {
   "cell_type": "code",
   "execution_count": 10,
   "id": "0972179d-57d1-4350-b3fe-70463a7167d3",
   "metadata": {},
   "outputs": [
    {
     "data": {
      "image/png": "[encoded data removed]",
      "text/plain": [
       "<Figure size 640x480 with 1 Axes>"
      ]
     },
     "metadata": {},
     "output_type": "display_data"
    }
   ],
   "source": [
    "#Question 7: Write a Python script to draw a boxplot for the following numeric list and identify its outliers. Explain the result:\n",
    "data = [12, 14, 14, 15, 18, 19, 19, 21, 22, 22, 23, 23, 24, 26, 29, 35]\n",
    "#(Include your Python code and output in the code box below.)\n",
    "\n",
    "\n",
    "\n",
    "plt.boxplot(data)\n",
    "plt.title(\"Boxplot of Data\")\n",
    "plt.show()"
   ]
  },
  {
   "cell_type": "code",
   "execution_count": 12,
   "id": "82422840-537b-4f86-bbf1-f2064e6ba6de",
   "metadata": {},
   "outputs": [
    {
     "name": "stdout",
     "output_type": "stream",
     "text": [
      "Correlation Coefficient: 0.9935824101653329\n"
     ]
    }
   ],
   "source": [
    "#Question 8: You are working as a data analyst in an e-commerce company. The marketing team wants to know if there is a relationship between advertising spend and daily sales.\n",
    "\n",
    "#● Explain how you would use covariance and correlation to explore this relationship.\n",
    "#● Write Python code to compute the correlation between the two lists:\n",
    "\n",
    "advertising_spend = [200, 250, 300, 400, 500]\n",
    "daily_sales = [2200, 2450, 2750, 3200, 4000]\n",
    "\n",
    "#(Include your Python code and output in the code box below.)\n",
    "\n",
    "#Answer\n",
    "\n",
    "#Covariance measures the direction of the relationship between two variables.\n",
    "#Positive covariance → when one increases, the other tends to increase.\n",
    "#Negative covariance → when one increases, the other tends to decrease.\n",
    "#Limitation: Covariance doesn’t tell us the strength of the relationship.\n",
    "\n",
    "Correlation standardizes covariance to a scale between -1 and 1.\n",
    "#+1 → perfect positive relationship.\n",
    "#0 → no relationship.\n",
    "#-1 → perfect negative relationship.\n",
    "\n",
    "corr = np.corrcoef(advertising_spend, daily_sales)[0][1]\n",
    "print(\"Correlation Coefficient:\", corr)"
   ]
  },
  {
   "cell_type": "code",
   "execution_count": 13,
   "id": "cda6ab2a-0564-4820-a76e-6940dd3f878d",
   "metadata": {},
   "outputs": [
    {
     "data": {
      "image/png": "[encoded data removed]",
      "text/plain": [
       "<Figure size 640x480 with 1 Axes>"
      ]
     },
     "metadata": {},
     "output_type": "display_data"
    }
   ],
   "source": [
    "#Question 9: Your team has collected customer satisfaction survey data on a scale of 1-10 and wants to understand its distribution before launching a new product.\n",
    "#● Explain which summary statistics and visualizations (e.g. mean, standard deviation, histogram) you’d use.\n",
    "#● Write Python code to create a histogram using Matplotlib for the survey data:\n",
    "survey_scores = [7, 8, 5, 9, 6, 7, 8, 9, 10, 4, 7, 6, 9, 8, 7]\n",
    "#(Include your Python code and output in the code box below.)\n",
    "\n",
    "#Answer\n",
    "\n",
    "plt.hist(survey_scores, bins=6, edgecolor='black')\n",
    "plt.title(\"Customer Satisfaction Scores\")\n",
    "plt.xlabel(\"Score\")\n",
    "plt.ylabel(\"Frequency\")\n",
    "plt.show()"
   ]
  },
  {
   "cell_type": "code",
   "execution_count": null,
   "id": "8c336b68-541d-476f-a481-0e638730c403",
   "metadata": {},
   "outputs": [],
   "source": []
  }
 ],
 "metadata": {
  "kernelspec": {
   "display_name": "Python 3 (ipykernel)",
   "language": "python",
   "name": "python3"
  },
  "language_info": {
   "codemirror_mode": {
    "name": "ipython",
    "version": 3
   },
   "file_extension": ".py",
   "mimetype": "text/x-python",
   "name": "python",
   "nbconvert_exporter": "python",
   "pygments_lexer": "ipython3",
   "version": "3.13.6"
  }
 },
 "nbformat": 4,
 "nbformat_minor": 5
}
